{
 "cells": [
  {
   "cell_type": "markdown",
   "metadata": {},
   "source": [
    "## Plan transfers between areas\n",
    "\n",
    "This notebook shows how we can use Decision Optimization to optimize the move of affected people between hospitals to avoid being overcapacity.\n",
    "\n",
    "The problem is solved per department.\n",
    "\n",
    "There are 5 parts in this notebooks:\n",
    "1. Load the data form different places (departements, current situation, etc)\n",
    "2. represent the current situation on a map\n",
    "3. predict new cases to come for each department\n",
    "4. plan transfers \n",
    "5. display all the transfers from the solution\n",
    "\n",
    "**DISCLAIMER: this notebook is thought to demonstrate through an example how Machine Learning and Decision Optmization could be used, but it is partially based on fake data and knowledge of the real problem, and some significant work would be required to incorporate real data and real constraints and obejctives so that the outcome could be useful.**"
   ]
  },
  {
   "cell_type": "code",
   "execution_count": null,
   "metadata": {},
   "outputs": [],
   "source": [
    "pip install brunel"
   ]
  },
  {
   "cell_type": "code",
   "execution_count": null,
   "metadata": {},
   "outputs": [],
   "source": [
    "import brunel\n",
    "import pandas as pd\n",
    "import math\n",
    "import csv\n",
    "import collections"
   ]
  },
  {
   "cell_type": "markdown",
   "metadata": {},
   "source": [
    "### 1. Load the data"
   ]
  },
  {
   "cell_type": "markdown",
   "metadata": {},
   "source": [
    "Let's import data on hospital status (from the `data.gouf.fr` site).\n",
    "\n",
    "See https://www.data.gouv.fr/fr/datasets/donnees-relatives-a-lepidemie-de-covid-19/#_"
   ]
  },
  {
   "cell_type": "code",
   "execution_count": null,
   "metadata": {
    "scrolled": false
   },
   "outputs": [],
   "source": [
    "url =\"https://www.data.gouv.fr/fr/datasets/r/63352e38-d353-4b54-bfd1-f1b3ee1cabd7\"\n",
    "df=pd.read_csv(url, sep=\";\")\n",
    "df.head()"
   ]
  },
  {
   "cell_type": "markdown",
   "metadata": {},
   "source": [
    "Let's remove some departments which are not concerned by possible moves."
   ]
  },
  {
   "cell_type": "code",
   "execution_count": null,
   "metadata": {},
   "outputs": [],
   "source": [
    "deps = df.dep.unique()\n",
    "deps = deps[deps != '971']\n",
    "deps = deps[deps != '972']\n",
    "deps = deps[deps != '973']\n",
    "deps = deps[deps != '974']\n",
    "deps = deps[deps != '976']\n",
    "deps = deps[deps != '978']\n",
    "deps = deps[~pd.isna(deps)]"
   ]
  },
  {
   "cell_type": "markdown",
   "metadata": {},
   "source": [
    "Let's create a dictionnary of aggregated data per department."
   ]
  },
  {
   "cell_type": "code",
   "execution_count": null,
   "metadata": {},
   "outputs": [],
   "source": [
    "hosp_data = {}\n",
    "for d in deps:\n",
    "    data = df[df.dep==d]\n",
    "    data = data.groupby('jour').sum().reset_index().drop(columns=['sexe'])\n",
    "    data['jour']=pd.to_datetime(data['jour'])\n",
    "    data = data.sort_values(by=['jour'], ascending=False)\n",
    "    hosp_data[d] = data    "
   ]
  },
  {
   "cell_type": "markdown",
   "metadata": {},
   "source": [
    "We will use some GPS data on departments from the uploaded data asset. Refer to the instruction on how to insert the code to read this data. "
   ]
  },
  {
   "cell_type": "code",
   "execution_count": null,
   "metadata": {},
   "outputs": [],
   "source": [
    "## insert the read departements data asset code here. See instructions. "
   ]
  },
  {
   "cell_type": "markdown",
   "metadata": {},
   "source": [
    "Execute the \"strip_zero\" function.  This is used to fix incompatibilities is using the \"deps\" list data with the deps_data series data structure."
   ]
  },
  {
   "cell_type": "code",
   "execution_count": null,
   "metadata": {},
   "outputs": [],
   "source": [
    "def strip_zero(val):\n",
    "    if val[0]=='0':\n",
    "        return (str(int(val)))\n",
    "    return val"
   ]
  },
  {
   "cell_type": "markdown",
   "metadata": {},
   "source": [
    "Convert the departments LONGITUDE and LATITUDE from strings to real numbers."
   ]
  },
  {
   "cell_type": "code",
   "execution_count": null,
   "metadata": {},
   "outputs": [],
   "source": [
    "def coord(val):\n",
    "    neg = (val[-1] == 'O')\n",
    "    #print (pos)\n",
    "    c1 = val.split('d')[0]\n",
    "    #print (c1)\n",
    "    c2 = val.split('d')[1].split(\"'\")[0]\n",
    "    #print (c2)\n",
    "    c3 = val.split('d')[1].split(\"'\")[1].split('\"')[0]\n",
    "    #print (c3)\n",
    "    res = float(c1) + float(c2)/60 + float(c3)/3600\n",
    "    if neg:\n",
    "        res = -res\n",
    "    return res\n",
    "    \n",
    "\n",
    "deps_data['LONGITUDE'] = deps_data['LONGITUDE'].apply(lambda x: coord(x))\n",
    "deps_data['LATITUDE'] = deps_data['LATITUDE'].apply(lambda x: coord(x))\n",
    "\n",
    "deps_data = deps_data.set_index(['Nd'])\n",
    "deps_data.head()"
   ]
  },
  {
   "cell_type": "markdown",
   "metadata": {},
   "source": [
    "Determine the distance between two locations. "
   ]
  },
  {
   "cell_type": "code",
   "execution_count": null,
   "metadata": {},
   "outputs": [],
   "source": [
    "def distance(lt1, lg1, lt2, lg2):\n",
    "\n",
    "    R = 6373.0\n",
    "    \n",
    "    lat1 = math.radians(lt1)\n",
    "    lon1 = math.radians(lg1)\n",
    "    lat2 = math.radians(lt2)\n",
    "    lon2 = math.radians(lg2)\n",
    "\n",
    "    dlon = lon2 - lon1\n",
    "    dlat = lat2 - lat1\n",
    "\n",
    "    a = math.sin(dlat / 2)**2 + math.cos(lat1) * math.cos(lat2) * math.sin(dlon / 2)**2\n",
    "    c = 2 * math.atan2(math.sqrt(a), math.sqrt(1 - a))\n",
    "\n",
    "    distance = R * c\n",
    "    return distance\n",
    "    "
   ]
  },
  {
   "cell_type": "markdown",
   "metadata": {},
   "source": [
    "### 2. Display the current situation on a map\n",
    "\n",
    "We will use folium to represent the data on maps."
   ]
  },
  {
   "cell_type": "code",
   "execution_count": null,
   "metadata": {},
   "outputs": [],
   "source": [
    "!pip install folium"
   ]
  },
  {
   "cell_type": "markdown",
   "metadata": {},
   "source": [
    "Let's now represent the situation for each department"
   ]
  },
  {
   "cell_type": "code",
   "execution_count": null,
   "metadata": {
    "scrolled": true
   },
   "outputs": [],
   "source": [
    "import folium \n",
    "\n",
    "m = folium.Map(\n",
    "    location=[45.5236, 5.6750],\n",
    "    zoom_start=6\n",
    ")\n",
    "\n",
    "initial = {}\n",
    "capacity = {}\n",
    "\n",
    "for d, dep in deps_data.iterrows():  \n",
    "    if (d in ['1','2','3','4','5','6','7','8','9']):\n",
    "        d = '0' + str(d)\n",
    "\n",
    "    sz = int(hosp_data[d]['rea'].iat[0])\n",
    "    initial[d] = sz\n",
    "    capacity[d] = int(1.2*dep['CAPACITY'])    \n",
    "    \n",
    "url = 'https://france-geojson.gregoiredavid.fr/repo/departements.geojson'\n",
    "def style_function(feature):\n",
    "    d = feature['properties']['code']\n",
    "    return {\n",
    "        'fillOpacity': 0.4 if initial[d]>capacity[d] else 0,\n",
    "        'weight': 0.5,\n",
    "        'color': 'black',\n",
    "        'fillColor': 'red' if initial[d]>capacity[d] else 'white'\n",
    "    }\n",
    "\n",
    "folium.GeoJson(\n",
    "    url,\n",
    "    name='geojson',\n",
    "    style_function=style_function\n",
    ").add_to(m)\n",
    "\n",
    "for d, dep in deps_data.iterrows():    \n",
    "    lt = dep['LATITUDE']\n",
    "    lg = dep['LONGITUDE']\n",
    "    nm = dep['DEPARTEMENT']\n",
    "    \n",
    "    if (d in ['1','2','3','4','5','6','7','8','9']):\n",
    "        d = '0' + str(d)\n",
    "\n",
    "    sz = int(hosp_data[d]['rea'].iat[0])\n",
    "    initial[d] = sz\n",
    "    #folium.Marker([lt, lg]).add_to(here_map)    \n",
    "    color = 'green'\n",
    "    if initial[d]>0.5*capacity[d]:\n",
    "        color = 'orange'\n",
    "    if initial[d]>capacity[d]:\n",
    "        color='red'\n",
    "    folium.Circle(\n",
    "        radius=sz*50,\n",
    "        location=[lt, lg],\n",
    "        popup=folium.Popup(nm + '(' + str(d)+')<br>'+str(sz)+' reas.<br>Capacity: '+str(capacity[d]),max_width=450,min_width=150),\n",
    "        color=color,\n",
    "        fill=True,\n",
    "        fill_color=color\n",
    "    ).add_to(m)\n",
    "\n",
    "\n",
    "m"
   ]
  },
  {
   "cell_type": "markdown",
   "metadata": {},
   "source": [
    "Create dataframe with status before transfers and calculate the total over capacity"
   ]
  },
  {
   "cell_type": "code",
   "execution_count": null,
   "metadata": {
    "scrolled": false
   },
   "outputs": [],
   "source": [
    "before = pd.DataFrame(columns=['Nd', 'capacity', 'value', 'overcapacity'], data=[[d, capacity[d], initial[d], max(0, initial[d]-capacity[d])] for d in deps])\n",
    "print (before)\n",
    "\n",
    "total_overall_before = before['overcapacity'].sum()\n",
    "print(total_overall_before)"
   ]
  },
  {
   "cell_type": "markdown",
   "metadata": {},
   "source": [
    "### 3. Predict the new cases\n",
    "\n",
    "We use a very dummy linear regression to predict the new cases to appear on each department."
   ]
  },
  {
   "cell_type": "code",
   "execution_count": null,
   "metadata": {},
   "outputs": [],
   "source": [
    "import numpy as np\n",
    "from sklearn.linear_model import LinearRegression\n",
    "\n",
    "   \n",
    "NB_PERIODS = 3\n",
    "\n",
    "def predict_more(d, n):   \n",
    "    X = hosp_data[d].index.tolist()\n",
    "    X.reverse()\n",
    "    X=np.array(X).reshape(-1,1)\n",
    "    y = hosp_data[d]['rea'].tolist()\n",
    "    y.reverse()\n",
    "    y=np.array(y).reshape(-1,1)\n",
    "\n",
    "    regsr=LinearRegression()\n",
    "    regsr.fit(X,y)\n",
    "\n",
    "    to_predict_x = [i for i in range(len(X), len(X)+n)]\n",
    "    to_predict_x= np.array(to_predict_x).reshape(-1,1)\n",
    "    predicted_y= regsr.predict(to_predict_x)\n",
    "    delta_y = [ int(round(max(0, predicted_y[i][0]-y[len(y)-1][0]))) for i in range(n)]\n",
    "    return delta_y\n",
    "\n",
    "new_rea ={ d:predict_more(d, NB_PERIODS) for d in deps}\n",
    "print (new_rea)"
   ]
  },
  {
   "cell_type": "markdown",
   "metadata": {},
   "source": [
    "### 4. Optimize the transfers using Decision Optimization"
   ]
  },
  {
   "cell_type": "markdown",
   "metadata": {},
   "source": [
    "Now let's create an optimization model.\n",
    "\n",
    "**Not knowing the real capacities and the real constraints and objectives, we have imagined that some limited short and long transfers could be organized in order to minimize the total over capacity.**"
   ]
  },
  {
   "cell_type": "code",
   "execution_count": null,
   "metadata": {},
   "outputs": [],
   "source": [
    "from docplex.mp.environment import Environment\n",
    "env = Environment()\n",
    "env.print_information()"
   ]
  },
  {
   "cell_type": "markdown",
   "metadata": {},
   "source": [
    "Parameters are the number of possible moves, and the maximum number of cases per move."
   ]
  },
  {
   "cell_type": "code",
   "execution_count": null,
   "metadata": {},
   "outputs": [],
   "source": [
    "from docplex.mp.model import Model\n",
    "mdl = Model(\"Plan Transfers\")\n",
    "\n",
    "MAX_NB_LONG_TRANSFERS_PER_PERIOD = 3\n",
    "MAX_CASES_PER_LONG_TRANSFERS = 20\n",
    "\n",
    "MAX_NB_SHORT_TRANSFERS_PER_DEPARTMENT = 3\n",
    "\n",
    "LONG_DISTANCE = 200"
   ]
  },
  {
   "cell_type": "markdown",
   "metadata": {},
   "source": [
    "For each \"Department\" determine if the distance between itself and all other departments is either a \"SHORT\" or \"LONG\" transportation route."
   ]
  },
  {
   "cell_type": "code",
   "execution_count": null,
   "metadata": {},
   "outputs": [],
   "source": [
    "is_long = {d1: {d2: distance(deps_data['LATITUDE'][strip_zero(d1)], deps_data['LONGITUDE'][strip_zero(d1)], deps_data['LATITUDE'][strip_zero(d2)], deps_data['LONGITUDE'][strip_zero(d2)]) > LONG_DISTANCE for d2 in deps} for d1 in deps}"
   ]
  },
  {
   "cell_type": "markdown",
   "metadata": {},
   "source": [
    "Create a \"Plan Transfers\" short transfer bounds."
   ]
  },
  {
   "cell_type": "code",
   "execution_count": null,
   "metadata": {},
   "outputs": [],
   "source": [
    "transfer_periods = list(range(NB_PERIODS))\n",
    "all_periods = list(range(NB_PERIODS+1))\n",
    "\n",
    "# Binary vars representing the \"assigned\" libraries for each coffee shop\n",
    "use_link_vars = mdl.binary_var_cube(deps, deps, transfer_periods, name=\"use_link\")\n",
    "link_vars = mdl.integer_var_cube(deps, deps, transfer_periods, lb=0, ub=MAX_CASES_PER_LONG_TRANSFERS, name=\"link\")\n",
    "occupancy_vars = mdl.integer_var_matrix(deps, all_periods, lb=0, name=\"occupancy\")\n",
    "\n",
    "# Short transfers bounds\n",
    "mdl.add_constraints(link_vars[d1, d2, t] <= 1 for d1 in deps for d2 in deps if not is_long[d1][d2] for t in transfer_periods)\n",
    "\n",
    "mdl.print_information()"
   ]
  },
  {
   "cell_type": "markdown",
   "metadata": {},
   "source": [
    "Add the contraints \n"
   ]
  },
  {
   "cell_type": "code",
   "execution_count": null,
   "metadata": {},
   "outputs": [],
   "source": [
    "# Initial state\n",
    "mdl.add_constraints(occupancy_vars[d, 0] == initial[d] for d in deps)\n",
    "\n",
    "# structural constraint between user_link and link\n",
    "mdl.add_constraints(use_link_vars[d, d1, t] == (link_vars[d, d1, t] >= 1) for d in deps for d1 in deps for t in transfer_periods)\n",
    "\n",
    "# number of transfers from a department less than current number of cases\n",
    "mdl.add_constraints(mdl.sum(link_vars[d, d1, t] for d1 in deps) <= occupancy_vars[d, t] for d in deps for t in transfer_periods)\n",
    "\n",
    "# maximum number of LONG transfers\n",
    "mdl.add_constraints(mdl.sum(use_link_vars[d1, d2, t] for d1 in deps for d2 in deps if is_long[d1][d2]) <= MAX_NB_LONG_TRANSFERS_PER_PERIOD for t in transfer_periods)\n",
    "\n",
    "\n",
    "# maximum number of SHORT transfers\n",
    "mdl.add_constraints(mdl.sum(use_link_vars[d1, d2, t] for d1 in deps if not is_long[d1][d2] for t in transfer_periods) <= MAX_NB_SHORT_TRANSFERS_PER_DEPARTMENT for d2 in deps )\n",
    "\n",
    "# conservation constraints including new cases to come\n",
    "mdl.add_constraints(occupancy_vars[d, t+1] == new_rea[d][t] + occupancy_vars[d, t] + mdl.sum(link_vars[d1, d, t] for d1 in deps) - mdl.sum(link_vars[d, d1, t] for d1 in deps) for d in deps for t in transfer_periods)\n",
    "\n",
    "mdl.print_information()"
   ]
  },
  {
   "cell_type": "markdown",
   "metadata": {},
   "source": [
    "Objective is to minimize the total over capacity  at the end"
   ]
  },
  {
   "cell_type": "code",
   "execution_count": null,
   "metadata": {},
   "outputs": [],
   "source": [
    "final_overcapacity = mdl.sum(mdl.max(0,  occupancy_vars[d, NB_PERIODS] - capacity[d]) for d in deps)\n",
    "mdl.add_kpi(final_overcapacity)\n",
    "\n",
    "nb_long_transfers = mdl.sum(use_link_vars[d1, d2, t] for d1 in deps for d2 in deps if is_long[d1][d2] for t in transfer_periods)\n",
    "mdl.add_kpi(nb_long_transfers)\n",
    "\n",
    "nb_short_transfers = mdl.sum(use_link_vars[d1, d2, t] for d1 in deps for d2 in deps if not is_long[d1][d2] for t in transfer_periods)\n",
    "mdl.add_kpi(nb_short_transfers)\n",
    "\n",
    "mdl.minimize(1000 * final_overcapacity + 10 * nb_long_transfers + nb_short_transfers)"
   ]
  },
  {
   "cell_type": "markdown",
   "metadata": {},
   "source": [
    "Have the \"docplex\" solve the optimization model."
   ]
  },
  {
   "cell_type": "code",
   "execution_count": null,
   "metadata": {},
   "outputs": [],
   "source": [
    "mdl.set_time_limit(20) \n",
    "mdl.solve(log_output=True)"
   ]
  },
  {
   "cell_type": "markdown",
   "metadata": {},
   "source": [
    "Extract and print the moves"
   ]
  },
  {
   "cell_type": "code",
   "execution_count": null,
   "metadata": {
    "scrolled": true
   },
   "outputs": [],
   "source": [
    "edges = [(t, d1, d2, int(link_vars[d1, d2, t]), is_long[d1][d2]) for t in transfer_periods for d1 in deps for d2 in deps if int(link_vars[d1, d2, t]) >= 1]\n",
    "print (edges)"
   ]
  },
  {
   "cell_type": "markdown",
   "metadata": {},
   "source": [
    "Recreate structure for final situation and calculate final over capacity."
   ]
  },
  {
   "cell_type": "code",
   "execution_count": null,
   "metadata": {},
   "outputs": [],
   "source": [
    "final = { d: int(occupancy_vars[d, NB_PERIODS].solution_value) for d in deps }\n",
    "\n",
    "after = pd.DataFrame(columns=['Nd', 'capacity', 'value', 'overcapacity'], data=[[d, capacity[d], final[d], max(0, final[d]-capacity[d])] for d in deps])\n",
    "print(after)\n",
    "\n",
    "total_overall_after = after['overcapacity'].sum()\n",
    "print(total_overall_after)"
   ]
  },
  {
   "cell_type": "markdown",
   "metadata": {},
   "source": [
    "### 5. Display the solution"
   ]
  },
  {
   "cell_type": "markdown",
   "metadata": {},
   "source": [
    "And represent the moves and the changes for impacted departments.\n",
    "\n",
    "* Black links are the local transfers.\n",
    "* Green links are the long distance transfers."
   ]
  },
  {
   "cell_type": "code",
   "execution_count": null,
   "metadata": {
    "scrolled": true
   },
   "outputs": [],
   "source": [
    "def style_function(feature):\n",
    "    d = feature['properties']['code']\n",
    "    return {\n",
    "        'fillOpacity': 0.4 if final[d]>capacity[d] else 0,\n",
    "        'weight': 0.5,\n",
    "        'color': 'black',\n",
    "        'fillColor': 'red' if final[d]>capacity[d] else 'white'\n",
    "    }\n",
    "\n",
    "\n",
    "def get_angle(p1, p2):\n",
    "    \n",
    "    '''\n",
    "    This function Returns angle value in degree from the location p1 to location p2\n",
    "    \n",
    "    Parameters it accepts : \n",
    "    p1 : namedtuple with lat lon\n",
    "    p2 : namedtuple with lat lon\n",
    "    \n",
    "    This function Return the vlaue of degree in the data type float\n",
    "    \n",
    "    Pleae also refers to for better understanding : https://gist.github.com/jeromer/2005586\n",
    "    '''\n",
    "    \n",
    "    longitude_diff = np.radians(p2.lon - p1.lon)\n",
    "    \n",
    "    latitude1 = np.radians(p1.lat)\n",
    "    latitude2 = np.radians(p2.lat)\n",
    "    \n",
    "    x_vector = np.sin(longitude_diff) * np.cos(latitude2)\n",
    "    y_vector = (np.cos(latitude1) * np.sin(latitude2) \n",
    "        - (np.sin(latitude1) * np.cos(latitude2) \n",
    "        * np.cos(longitude_diff)))\n",
    "    angle = np.degrees(np.arctan2(x_vector, y_vector))\n",
    "    \n",
    "    # Checking and adjustring angle value on the scale of 360\n",
    "    if angle < 0:\n",
    "        return angle + 360\n",
    "    return angle\n",
    "\n",
    "\n",
    "def get_arrows(locations, color, size, n_arrows):\n",
    "    \n",
    "    '''\n",
    "    Get a list of correctly placed and rotated \n",
    "    arrows/markers to be plotted\n",
    "    \n",
    "    Parameters\n",
    "    locations : list of lists of lat lons that represent the \n",
    "                start and end of the line. \n",
    "                eg [[41.1132, -96.1993],[41.3810, -95.8021]]\n",
    "    arrow_color : default is 'blue'\n",
    "    size : default is 6\n",
    "    n_arrows : number of arrows to create.  default is 3\n",
    "    Return\n",
    "    list of arrows/markers\n",
    "    '''\n",
    "    \n",
    "    Point = collections.namedtuple('Point', field_names=['lat', 'lon'])\n",
    "    \n",
    "    # creating point from our Point named tuple\n",
    "    p1 = Point(locations[0][0], locations[0][1])\n",
    "    p2 = Point(locations[1][0], locations[1][1])\n",
    "    \n",
    "    # getting the rotation needed for our marker.  \n",
    "    # Subtracting 90 to account for the marker's orientation\n",
    "    # of due East(get_bearing returns North)\n",
    "    rotation = get_angle(p1, p2) - 90\n",
    "    \n",
    "    # get an evenly space list of lats and lons for our arrows\n",
    "    # note that I'm discarding the first and last for aesthetics\n",
    "    # as I'm using markers to denote the start and end\n",
    "    arrow_lats = np.linspace(p1.lat, p2.lat, n_arrows + 2)[1:n_arrows+1]\n",
    "    arrow_lons = np.linspace(p1.lon, p2.lon, n_arrows + 2)[1:n_arrows+1]\n",
    "    \n",
    "    arrows = []\n",
    "    \n",
    "    #creating each \"arrow\" and appending them to our arrows list\n",
    "    for points in zip(arrow_lats, arrow_lons):\n",
    "        arrows.append(folium.RegularPolygonMarker(location=points, \n",
    "                      fill_color=color, number_of_sides=3, \n",
    "                      radius=size, rotation=rotation))\n",
    "    return arrows\n",
    "\n",
    "\n",
    "\n",
    "m = folium.Map(\n",
    "    location=[45.5236, 5.6750],\n",
    "    zoom_start=6\n",
    ")\n",
    "\n",
    "    \n",
    "url = 'https://france-geojson.gregoiredavid.fr/repo/departements.geojson'\n",
    "\n",
    "\n",
    "folium.GeoJson(\n",
    "    url,\n",
    "    name='geojson',\n",
    "    style_function=style_function\n",
    ").add_to(m)\n",
    "\n",
    "\n",
    "for d, dep in deps_data.iterrows():  \n",
    "    if (d in ['1','2','3','4','5','6','7','8','9']):\n",
    "        d = '0' + str(d)\n",
    "\n",
    "    if final[d]==initial[d]:\n",
    "        continue\n",
    "    lt = dep['LATITUDE']\n",
    "    lg = dep['LONGITUDE']\n",
    "    nm = dep['DEPARTEMENT']\n",
    "    sz0 = initial[d]\n",
    "    sz1 = final[d]\n",
    "    color = 'green'\n",
    "    if final[d]>0.5*capacity[d]:\n",
    "        color = 'orange'\n",
    "    if final[d]>capacity[d]:\n",
    "        color='red'    \n",
    "    folium.Circle(\n",
    "        radius=sz1*50,\n",
    "        location=[lt, lg],\n",
    "        popup=folium.Popup(nm+' (' + str(d)+'):<br>From '+str(sz0)+' to '+str(sz1)+' reas.<br>Capacity: '+str(capacity[d]),max_width=450,min_width=150),\n",
    "        color=color,\n",
    "        fill=True,\n",
    "        fill_color=color\n",
    "    ).add_to(m)\n",
    "        \n",
    "for (t, c, b, v, il) in edges:            \n",
    "    c = strip_zero(c)\n",
    "    b = strip_zero(b)\n",
    "    ic = deps_data.index.get_loc(c)\n",
    "    ib = deps_data.index.get_loc(b)\n",
    "    dep1 = deps_data.iloc[ic]\n",
    "    dep2 = deps_data.iloc[ib]\n",
    "    coordinates = [[dep1['LATITUDE'], dep1['LONGITUDE']], [dep2['LATITUDE'], dep2['LONGITUDE']]]\n",
    "    color = 'green'\n",
    "    weight = 4\n",
    "    if not il:\n",
    "        color = 'black'\n",
    "        weight = 2\n",
    "    pl = folium.PolyLine(coordinates, color=color, weight=weight)\n",
    "    m.add_child(pl)\n",
    "    \n",
    "    arrows = get_arrows(locations=coordinates, color=color, size=3, n_arrows=3)\n",
    "    for arrow in arrows:\n",
    "        arrow.add_to(m)\n",
    "    \n",
    "    \n",
    "    \n",
    "m"
   ]
  },
  {
   "cell_type": "code",
   "execution_count": null,
   "metadata": {},
   "outputs": [],
   "source": []
  }
 ],
 "metadata": {
  "kernelspec": {
   "display_name": "Python 3.7",
   "language": "python",
   "name": "python3"
  },
  "language_info": {
   "codemirror_mode": {
    "name": "ipython",
    "version": 3
   },
   "file_extension": ".py",
   "mimetype": "text/x-python",
   "name": "python",
   "nbconvert_exporter": "python",
   "pygments_lexer": "ipython3",
   "version": "3.7.11"
  }
 },
 "nbformat": 4,
 "nbformat_minor": 1
}
